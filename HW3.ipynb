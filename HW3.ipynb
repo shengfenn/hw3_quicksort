{
 "cells": [
  {
   "cell_type": "code",
   "execution_count": 163,
   "id": "fe72fea6-fe5a-44de-9ee9-736f7f0f752f",
   "metadata": {},
   "outputs": [
    {
     "name": "stdout",
     "output_type": "stream",
     "text": [
      "[3, 8, 13, 25, 33, 41, 54, 67, 83, 119]\n"
     ]
    }
   ],
   "source": [
    "number = [33, 67, 8, 13, 54, 119, 3, 83, 25, 41]\n",
    "\n",
    "def quicksort(arr):\n",
    "    \n",
    "    #如果陣列長度<或= 0就不進行排序\n",
    "    if len(arr) <= 1:\n",
    "        return arr\n",
    "        \n",
    "    #設定大於pivot、小於pivot的array，分別是right、left\n",
    "    right = []\n",
    "    left = []\n",
    "\n",
    "    #設定陣列第一個元素為pivot\n",
    "    pivot = arr[0]\n",
    "    \n",
    "    #和pivot相比後放進相對應的array\n",
    "    for i in arr:\n",
    "        if i > pivot:\n",
    "            right.append(i)\n",
    "        elif i < pivot:\n",
    "            left.append(i)\n",
    "    #回傳合在一起的完整array\n",
    "    return quicksort(left) + [pivot] + quicksort(right)\n",
    "\n",
    "\n",
    "#排序結果\n",
    "sorted_number = quicksort(number)\n",
    "print(sorted_number)"
   ]
  },
  {
   "cell_type": "code",
   "execution_count": null,
   "id": "d51dd676-81a7-4e44-bbf4-3d096eecfe57",
   "metadata": {},
   "outputs": [],
   "source": []
  },
  {
   "cell_type": "code",
   "execution_count": null,
   "id": "8a48b6d5-153d-4f52-add6-d6171929f308",
   "metadata": {},
   "outputs": [],
   "source": []
  }
 ],
 "metadata": {
  "kernelspec": {
   "display_name": "Python [conda env:base] *",
   "language": "python",
   "name": "conda-base-py"
  },
  "language_info": {
   "codemirror_mode": {
    "name": "ipython",
    "version": 3
   },
   "file_extension": ".py",
   "mimetype": "text/x-python",
   "name": "python",
   "nbconvert_exporter": "python",
   "pygments_lexer": "ipython3",
   "version": "3.12.7"
  }
 },
 "nbformat": 4,
 "nbformat_minor": 5
}
